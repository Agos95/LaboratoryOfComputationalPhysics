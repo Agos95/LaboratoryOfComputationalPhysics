{
 "cells": [
  {
   "cell_type": "markdown",
   "metadata": {},
   "source": [
    "1\\. Write a function that converts number representation (bin<->dec<->hex)"
   ]
  },
  {
   "cell_type": "code",
   "execution_count": 35,
   "metadata": {},
   "outputs": [
    {
     "name": "stdout",
     "output_type": "stream",
     "text": [
      "Decimal Number = 15\n",
      "Converted to Bin = 1111\n",
      "Converted to Hex = F\n",
      "\n",
      " --- \n",
      "\n",
      "Binary Number = 1101\n",
      "Converted to Dec = 13\n",
      "Converted to Hex = D\n",
      "\n",
      " --- \n",
      "\n",
      "Hexadecimal Number = 10\n",
      "Converted to Dec = 16\n",
      "Converted to Bin = 10000\n"
     ]
    }
   ],
   "source": [
    "# Strign to convert into binary values\n",
    "binConv = \"01\"\n",
    "# Strign to convert into hexadecimal values\n",
    "hexConv = \"0123456789ABCDEF\"\n",
    "\n",
    "def DecToBin(Dec):\n",
    "    # Result converted to binary\n",
    "    binNum = \"\"\n",
    "    while(Dec > 0):\n",
    "        # Add at the beginning of the string the rest of the division\n",
    "        binNum = binConv[Dec%2] + binNum\n",
    "        # Divide the number\n",
    "        Dec = Dec//2\n",
    "    return binNum\n",
    "\n",
    "def DecToHex(Dec):\n",
    "    # Result converted to hexadecimal\n",
    "    hexNum = \"\"\n",
    "    while(Dec > 0):\n",
    "        # Add at the beginning of the string the rest of the division\n",
    "        hexNum = hexConv[Dec%16] + hexNum\n",
    "        # Divide the number\n",
    "        Dec = Dec//16\n",
    "    return hexNum\n",
    "\n",
    "def BinToDec(Bin):\n",
    "    # Result converted to decimal\n",
    "    dec = 0\n",
    "    # Write in reverse order:\n",
    "    # LSB is the first element in the string, MSB is the last\n",
    "    Bin = Bin[::-1] #string[start:end:step]\n",
    "    for index, value in enumerate(Bin):\n",
    "        #dec = dec + int(value, 2)*2**index\n",
    "        dec = dec + binConv.find(value[:])*2**index\n",
    "    return dec\n",
    "\n",
    "def BinToHex(Bin):\n",
    "    return(DecToHex(BinToDec(Bin)))\n",
    "\n",
    "def HexToDec(Bin):\n",
    "    # Result converted to decimal\n",
    "    dec = 0\n",
    "    # Write in reverse order:\n",
    "    # LSB is the first element in the string, MSB is the last\n",
    "    Bin = Bin[::-1]\n",
    "    for index, value in enumerate(Bin):\n",
    "        dec = dec + hexConv.find(value[:])*16**index\n",
    "    return dec\n",
    "\n",
    "def HexToBin(Bin):\n",
    "    return(DecToBin(HexToDec(Bin)))\n",
    "    \n",
    "\n",
    "\n",
    "a = 15\n",
    "print(\"Decimal Number =\", a)\n",
    "print(\"Converted to Bin =\", DecToBin(a))\n",
    "print(\"Converted to Hex =\", DecToHex(a))\n",
    "print(\"\\n --- \\n\")\n",
    "\n",
    "b = \"1101\"\n",
    "print(\"Binary Number =\", b)\n",
    "print(\"Converted to Dec =\", BinToDec(b))\n",
    "print(\"Converted to Hex =\", BinToHex(b))\n",
    "print(\"\\n --- \\n\")\n",
    "\n",
    "c = \"10\"\n",
    "print(\"Hexadecimal Number =\", c)\n",
    "print(\"Converted to Dec =\", HexToDec(c))\n",
    "print(\"Converted to Bin =\", HexToBin(c))        \n",
    "    "
   ]
  },
  {
   "cell_type": "markdown",
   "metadata": {},
   "source": [
    "2\\. Write a function that converts a 32 bit word into a single precision floating point (i.e. interprets the various bits as sign, mantissa and exponent)"
   ]
  },
  {
   "cell_type": "code",
   "execution_count": 23,
   "metadata": {},
   "outputs": [
    {
     "name": "stdout",
     "output_type": "stream",
     "text": [
      "0\n",
      "-126\n",
      "120\n",
      "1.410593220986745e-36\n"
     ]
    }
   ],
   "source": [
    "# TO DO !!!\n",
    "\n",
    "def ConvertToFloat(st):\n",
    "    sign = (st >> 31) & 1\n",
    "    print(sign)\n",
    "    exponent = ((st << 1) >> 24) | 1\n",
    "    print(exponent - 127)\n",
    "    mantissa = ((st << 9) >> 9) | 1\n",
    "    print(1 + mantissa)\n",
    "    print((1+mantissa)*2**(exponent-127))\n",
    "    return\n",
    "\n",
    "st = 118\n",
    "ConvertToFloat(st)"
   ]
  },
  {
   "cell_type": "markdown",
   "metadata": {},
   "source": [
    "3\\. Write a program to determine the underflow and overflow limits (within a factor of 2) for python on your computer. \n",
    "\n",
    "**Tips**: define two variables inizialized to 1 and halve/double them enough time to exceed the under/over-flow limits  "
   ]
  },
  {
   "cell_type": "code",
   "execution_count": null,
   "metadata": {},
   "outputs": [],
   "source": [
    "a = 1\n",
    "b = 2\n",
    "\n",
    "while(a/2 != 0):\n",
    "    a = a/2\n",
    "\n",
    "'''\n",
    "for b in range(2**310):\n",
    "    try:\n",
    "        b = b**2\n",
    "    except OverflowError as err:\n",
    "        print(err)\n",
    "'''        \n",
    "    \n",
    "\n",
    "print(a)\n",
    "print(b)"
   ]
  },
  {
   "cell_type": "markdown",
   "metadata": {},
   "source": [
    "4\\. Write a program to determine the machine precision\n",
    "\n",
    "**Tips**: define a new variable by adding a smaller and smaller value (proceeding similarly to prob. 2) to an original variable and check the point where the two are the same "
   ]
  },
  {
   "cell_type": "markdown",
   "metadata": {},
   "source": [
    "5\\. Write a function that takes in input three parameters $a$, $b$ and $c$ and prints out the two solutions to the quadratic equation $ax^2+bx+c=0$ using the standard formula:\n",
    "$$\n",
    "x=\\frac{-b\\pm\\sqrt{b^2-4ac}}{2a}\n",
    "$$\n",
    "\n",
    "(a) use the program to compute the solution for $a=0.001$, $b=1000$ and $c=0.001$\n",
    "\n",
    "(b) re-express the standard solution formula by multiplying top and bottom by $-b\\mp\\sqrt{b^2-4ac}$ and again find the solution for $a=0.001$, $b=1000$ and $c=0.001$. How does it compare with what previously obtained? Why?\n",
    "\n",
    "(c) write a function that compute the roots of a quadratic equation accurately in all cases"
   ]
  },
  {
   "cell_type": "markdown",
   "metadata": {},
   "source": [
    "6\\. Write a program that implements the function $f(x)=x(x−1)$\n",
    "\n",
    "(a) Calculate the derivative of the function at the point $x = 1$ using the derivative definition:\n",
    "\n",
    "$$\n",
    "\\frac{{\\rm d}f}{{\\rm d}x} = \\lim_{\\delta\\to0} \\frac{f(x+\\delta)-f(x)}{\\delta}\n",
    "$$\n",
    "\n",
    "with $\\delta = 10^{−2}$. Calculate the true value of the same derivative analytically and compare with the answer your program gives. The two will not agree perfectly. Why not?\n",
    "\n",
    "(b) Repeat the calculation for $\\delta = 10^{−4}, 10^{−6}, 10^{−8}, 10^{−10}, 10^{−12}$ and $10^{−14}$. How does the accuracy scales with $\\delta$?"
   ]
  },
  {
   "cell_type": "markdown",
   "metadata": {},
   "source": [
    "7\\. Consider the integral of the semicircle of radius 1:\n",
    "$$\n",
    "I=\\int_{-1}^{1} \\sqrt(1-x^2) {\\rm d}x\n",
    "$$\n",
    "which it's known to be $I=\\frac{\\pi}{2}=1.57079632679...$.\n",
    "Alternatively we can use the Riemann definition of the integral:\n",
    "$$\n",
    "I=\\lim_{N\\to\\infty} \\sum_{k=1}^{N} h y_k \n",
    "$$\n",
    "\n",
    "with $h=2/N$ the width of each of the $N$ slices the domain is divided into and where\n",
    "$y_k$ is the value of the function at the $k-$th slice.\n",
    "\n",
    "(a) Write a programe to compute the integral with $N=100$. How does the result compares to the true value?\n",
    "\n",
    "(b) How much can $N$ be increased if the computation needs to be run in less than a second? What is the gain in running it for 1 minute? \n"
   ]
  },
  {
   "cell_type": "code",
   "execution_count": null,
   "metadata": {
    "collapsed": true
   },
   "outputs": [],
   "source": []
  }
 ],
 "metadata": {
  "kernelspec": {
   "display_name": "Python 3",
   "language": "python",
   "name": "python3"
  },
  "language_info": {
   "codemirror_mode": {
    "name": "ipython",
    "version": 3
   },
   "file_extension": ".py",
   "mimetype": "text/x-python",
   "name": "python",
   "nbconvert_exporter": "python",
   "pygments_lexer": "ipython3",
   "version": "3.7.0"
  }
 },
 "nbformat": 4,
 "nbformat_minor": 2
}
