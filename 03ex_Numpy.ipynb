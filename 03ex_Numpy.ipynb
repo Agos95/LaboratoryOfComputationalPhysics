{
 "cells": [
  {
   "cell_type": "markdown",
   "metadata": {},
   "source": [
    "### Numpy basics"
   ]
  },
  {
   "cell_type": "code",
   "execution_count": 39,
   "metadata": {
    "collapsed": true
   },
   "outputs": [],
   "source": [
    "import numpy as np\n",
    "import matplotlib.pyplot as plt\n",
    "%matplotlib inline"
   ]
  },
  {
   "cell_type": "markdown",
   "metadata": {},
   "source": [
    "1\\. Find the row, column and overall means for the following matrix:\n",
    "\n",
    "```python\n",
    "m = np.arange(12).reshape((3,4))\n",
    "```"
   ]
  },
  {
   "cell_type": "code",
   "execution_count": 5,
   "metadata": {},
   "outputs": [
    {
     "name": "stdout",
     "output_type": "stream",
     "text": [
      "Matrix:\n",
      " [[ 0  1  2  3]\n",
      " [ 4  5  6  7]\n",
      " [ 8  9 10 11]]\n",
      "Columns means: [ 4.  5.  6.  7.]\n",
      "Rows means: [ 1.5  5.5  9.5]\n",
      "Overall mean: 5.5\n"
     ]
    }
   ],
   "source": [
    "m = np.arange(12).reshape((3,4))\n",
    "print(\"Matrix:\\n\", m)\n",
    "column_mean  = m.mean(axis=0)\n",
    "row_mean     = m.mean(axis=1)\n",
    "overall_mean = m.mean()\n",
    "print(\"Columns means:\", column_mean)\n",
    "print(\"Rows means:\", row_mean)\n",
    "print(\"Overall mean:\", overall_mean)"
   ]
  },
  {
   "cell_type": "markdown",
   "metadata": {},
   "source": [
    "2\\. Find the outer product of the following two vecotrs\n",
    "\n",
    "```python\n",
    "u = np.array([1,3,5,7])\n",
    "v = np.array([2,4,6,8])\n",
    "```\n",
    "\n",
    "Do this in the following ways:\n",
    "\n",
    "   * Using the function outer in numpy\n",
    "   * Using a nested for loop or list comprehension\n",
    "   * Using numpy broadcasting operatoins\n"
   ]
  },
  {
   "cell_type": "code",
   "execution_count": 19,
   "metadata": {},
   "outputs": [
    {
     "name": "stdout",
     "output_type": "stream",
     "text": [
      "u = [1 3 5 7]\n",
      "v = [2 4 6 8]\n",
      "\n",
      " u x v (numpy):\n",
      " [[ 2  4  6  8]\n",
      " [ 6 12 18 24]\n",
      " [10 20 30 40]\n",
      " [14 28 42 56]]\n",
      "\n",
      " u x v (nested for):\n",
      " [[ 2  4  6  8]\n",
      " [ 6 12 18 24]\n",
      " [10 20 30 40]\n",
      " [14 28 42 56]]\n",
      "\n",
      " u x v (broadcasting):\n",
      " [[ 2  4  6  8]\n",
      " [ 6 12 18 24]\n",
      " [10 20 30 40]\n",
      " [14 28 42 56]]\n"
     ]
    }
   ],
   "source": [
    "u = np.array([1,3,5,7])\n",
    "v = np.array([2,4,6,8])\n",
    "\n",
    "uv_numpy = np.outer(u, v)\n",
    "uv_nest  = np.zeros((4, 4))\n",
    "for i in range(4):\n",
    "    for j in range(4):\n",
    "        uv_nest[i, j] = u[i]*v[j]\n",
    "uv_broad = u.reshape(4,1) * v\n",
    "\n",
    "print(\"u =\", u)\n",
    "print(\"v =\", v)\n",
    "print(\"\\n u x v (numpy):\\n\", uv_numpy)\n",
    "print(\"\\n u x v (nested for):\\n\", uv_numpy)\n",
    "print(\"\\n u x v (broadcasting):\\n\", uv_broad)"
   ]
  },
  {
   "cell_type": "markdown",
   "metadata": {},
   "source": [
    "3\\. Create a 10 by 6 matrix of random uniform numbers. Set all rows with any entry less than 0.1 to be zero\n",
    "\n",
    "Hint: Use the following numpy functions - np.random.random, np.any as well as Boolean indexing and the axis argument."
   ]
  },
  {
   "cell_type": "code",
   "execution_count": 42,
   "metadata": {},
   "outputs": [
    {
     "name": "stdout",
     "output_type": "stream",
     "text": [
      "Original matrix:\n",
      " [[ 0.70153468  0.95528881  0.42332332  0.79201893  0.18444041  0.25005114]\n",
      " [ 0.57762899  0.03373634  0.95721932  0.24592308  0.0904648   0.99342662]\n",
      " [ 0.13914975  0.6708865   0.60075701  0.18820787  0.02414023  0.8792195 ]\n",
      " [ 0.43035614  0.20369083  0.99005009  0.61874039  0.22509124  0.6379903 ]\n",
      " [ 0.4233683   0.53101354  0.79228065  0.94605241  0.83639504  0.96620362]\n",
      " [ 0.3242917   0.18535955  0.19764744  0.07359193  0.94584591  0.10502521]\n",
      " [ 0.27299359  0.27243424  0.22055798  0.13000527  0.55382615  0.31301619]\n",
      " [ 0.77606513  0.65697247  0.44436671  0.16970663  0.09211541  0.55209111]\n",
      " [ 0.15424051  0.64803174  0.81702563  0.45796168  0.72474236  0.96037358]\n",
      " [ 0.60534877  0.0927423   0.72556918  0.08962668  0.05839984  0.68910775]]\n",
      "\n",
      " Modified matrix:\n",
      " [[ 0.70153468  0.95528881  0.42332332  0.79201893  0.18444041  0.25005114]\n",
      " [ 0.57762899  0.          0.95721932  0.24592308  0.          0.99342662]\n",
      " [ 0.13914975  0.6708865   0.60075701  0.18820787  0.          0.8792195 ]\n",
      " [ 0.43035614  0.20369083  0.99005009  0.61874039  0.22509124  0.6379903 ]\n",
      " [ 0.4233683   0.53101354  0.79228065  0.94605241  0.83639504  0.96620362]\n",
      " [ 0.3242917   0.18535955  0.19764744  0.          0.94584591  0.10502521]\n",
      " [ 0.27299359  0.27243424  0.22055798  0.13000527  0.55382615  0.31301619]\n",
      " [ 0.77606513  0.65697247  0.44436671  0.16970663  0.          0.55209111]\n",
      " [ 0.15424051  0.64803174  0.81702563  0.45796168  0.72474236  0.96037358]\n",
      " [ 0.60534877  0.          0.72556918  0.          0.          0.68910775]]\n"
     ]
    }
   ],
   "source": [
    "np.random.seed(1205462)\n",
    "matrix = np.random.rand(10, 6)\n",
    "print(\"Original matrix:\\n\", matrix)\n",
    "'''\n",
    "mask = (matrix < 0.1)\n",
    "matrix[mask] = 0\n",
    "'''\n",
    "matrix[matrix < 0.1] = 0\n",
    "print(\"\\n Modified matrix:\\n\", matrix)"
   ]
  },
  {
   "cell_type": "markdown",
   "metadata": {},
   "source": [
    "4\\. Use np.linspace to create an array of 100 numbers between 0 and 2π (inclusive).\n",
    "\n",
    "  * Extract every 10th element using slice notation\n",
    "  * Reverse the array using slice notation\n",
    "  * Extract elements where the absolute difference between the sine and cosine functions evaluated at that element is less than 0.1\n",
    "  * Make a plot showing the sin and cos functions and indicate where they are close"
   ]
  },
  {
   "cell_type": "code",
   "execution_count": 56,
   "metadata": {},
   "outputs": [
    {
     "data": {
      "text/plain": [
       "<matplotlib.legend.Legend at 0x7f857c1dc630>"
      ]
     },
     "execution_count": 56,
     "metadata": {},
     "output_type": "execute_result"
    },
    {
     "data": {
      "image/png": "[encoded data removed]",
      "text/plain": [
       "<matplotlib.figure.Figure at 0x7f857c2c7780>"
      ]
     },
     "metadata": {},
     "output_type": "display_data"
    }
   ],
   "source": [
    "array = np.linspace(0, 2*np.pi, 100)\n",
    "slice_array   = array[::10]\n",
    "reverse_array = array[::-1]\n",
    "diff_array = array[abs(np.sin(array) - np.cos(array)) < 0.1]\n",
    "'''\n",
    "print(\"Original array:\", array)\n",
    "print(\"\\n Sliced array:\", slice_array)\n",
    "print(\"\\n Reverse array:\", reverse_array)\n",
    "print(\"\\n Sin/Cos difference array:\", diff_array)\n",
    "'''\n",
    "plt.plot(array, np.sin(array), label=\"Sin\")\n",
    "plt.plot(array, np.cos(array), label=\"Cos\")\n",
    "plt.plot(diff_array, np.cos(diff_array), 'ro', label=\"Close points\")\n",
    "plt.legend()"
   ]
  },
  {
   "cell_type": "markdown",
   "metadata": {},
   "source": [
    "5\\. Create a matrix that shows the 10 by 10 multiplication table.\n",
    "\n",
    " * Find the trace of the matrix\n",
    " * Extract the anto-diagonal (this should be ```array([10, 18, 24, 28, 30, 30, 28, 24, 18, 10])```)\n",
    " * Extract the diagnoal offset by 1 upwards (this should be ```array([ 2,  6, 12, 20, 30, 42, 56, 72, 90])```)"
   ]
  },
  {
   "cell_type": "code",
   "execution_count": null,
   "metadata": {
    "collapsed": true
   },
   "outputs": [],
   "source": []
  },
  {
   "cell_type": "markdown",
   "metadata": {},
   "source": [
    "6\\. Use broadcasting to create a grid of distances\n",
    "\n",
    "Route 66 crosses the following cities in the US: Chicago, Springfield, Saint-Louis, Tulsa, Oklahoma City, Amarillo, Santa Fe, Albuquerque, Flagstaff, Los Angeles\n",
    "The corresponding positions in miles are: 0, 198, 303, 736, 871, 1175, 1475, 1544, 1913, 2448\n",
    "\n",
    "  * Construct a 2D grid of distances among each city along Route 66\n",
    "  * Convert that in km (those savages...)"
   ]
  },
  {
   "cell_type": "markdown",
   "metadata": {},
   "source": [
    "7\\. Prime numbers sieve: compute the prime numbers in the 0-N (N=99 to start with) range with a sieve (mask).\n",
    "  * Constract a shape (100,) boolean array, the mask\n",
    "  * Identify the multiples of each number starting from 2 and set accordingly the corresponding mask element\n",
    "  * Apply the mask to obtain an array of ordered prime numbers\n",
    "  * Check the performances (timeit); how does it scale with N?\n",
    "  * Implement the optimization suggested in the [sieve of Eratosthenes](https://en.wikipedia.org/wiki/Sieve_of_Eratosthenes)"
   ]
  },
  {
   "cell_type": "markdown",
   "metadata": {},
   "source": [
    "8\\. Diffusion using random walk\n",
    "\n",
    "Consider a simple random walk process: at each step in time, a walker jumps right or left (+1 or -1) with equal probability. The goal is to find the typical distance from the origin of a random walker after a given amount of time. \n",
    "To do that, let's simulate many walkers and create a 2D array with each walker as a raw and the actual time evolution as columns\n",
    "\n",
    "  * Take 1000 walkers and let them walk for 200 steps\n",
    "  * Use randint to create a 2D array of size walkers x steps with values -1 or 1\n",
    "  * Build the actual walking distances for each walker (i.e. another 2D array \"summing on each raw\")\n",
    "  * Take the square of that 2D array (elementwise)\n",
    "  * Compute the mean of the squared distances at each step (i.e. the mean along the columns)\n",
    "  * Plot the average distances (sqrt(distance\\*\\*2)) as a function of time (step)\n",
    "  \n",
    "Did you get what you expected?"
   ]
  },
  {
   "cell_type": "markdown",
   "metadata": {},
   "source": [
    "9\\. Analyze a data file \n",
    "  * Download the population of hares, lynxes and carrots at the beginning of the last century.\n",
    "    ```python\n",
    "    ! wget https://www.dropbox.com/s/3vigxoqayo389uc/populations.txt\n",
    "    ```\n",
    "\n",
    "  * Check the content by looking within the file\n",
    "  * Load the data (use an appropriate numpy method) into a 2D array\n",
    "  * Create arrays out of the columns, the arrays being (in order): *year*, *hares*, *lynxes*, *carrots* \n",
    "  * Plot the 3 populations over the years\n",
    "  * Compute the main statistical properties of the dataset (mean, std, correlations, etc.)\n",
    "  * Which species has the highest population each year?\n",
    "\n",
    "Do you feel there is some evident correlation here? [Studies](https://www.enr.gov.nt.ca/en/services/lynx/lynx-snowshoe-hare-cycle) tend to believe so."
   ]
  },
  {
   "cell_type": "code",
   "execution_count": null,
   "metadata": {
    "collapsed": true
   },
   "outputs": [],
   "source": []
  }
 ],
 "metadata": {
  "kernelspec": {
   "display_name": "Python 3",
   "language": "python",
   "name": "python3"
  },
  "language_info": {
   "codemirror_mode": {
    "name": "ipython",
    "version": 3
   },
   "file_extension": ".py",
   "mimetype": "text/x-python",
   "name": "python",
   "nbconvert_exporter": "python",
   "pygments_lexer": "ipython3",
   "version": "3.6.3"
  }
 },
 "nbformat": 4,
 "nbformat_minor": 2
}
